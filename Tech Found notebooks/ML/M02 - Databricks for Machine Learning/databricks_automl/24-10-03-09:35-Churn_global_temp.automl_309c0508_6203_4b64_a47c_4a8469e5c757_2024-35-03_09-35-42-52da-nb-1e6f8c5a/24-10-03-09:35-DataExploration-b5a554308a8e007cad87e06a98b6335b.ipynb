{
 "cells": [
  {
   "cell_type": "markdown",
   "metadata": {
    "application/vnd.databricks.v1+cell": {
     "cellMetadata": {},
     "inputWidgets": {},
     "nuid": "28601532-fc06-48c5-87c0-a859e90aa047",
     "showTitle": false,
     "title": ""
    }
   },
   "source": [
    "# Data Exploration\n",
    "- This notebook performs exploratory data analysis on the dataset.\n",
    "- To expand on the analysis, attach this notebook to a cluster with runtime version **14.3.x-cpu-ml-scala2.12**,\n",
    "edit [the options of pandas-profiling](https://pandas-profiling.ydata.ai/docs/master/rtd/pages/advanced_usage.html), and rerun it.\n",
    "- Explore completed trials in the [MLflow experiment](#mlflow/experiments/2683910997712320)."
   ]
  },
  {
   "cell_type": "code",
   "execution_count": 0,
   "metadata": {
    "application/vnd.databricks.v1+cell": {
     "cellMetadata": {},
     "inputWidgets": {},
     "nuid": "b9b848e7-fb91-48ef-9598-ac60b7a76200",
     "showTitle": false,
     "title": ""
    },
    "execution": {
     "iopub.execute_input": "2024-10-03T09:36:13.954675Z",
     "iopub.status.busy": "2024-10-03T09:36:13.954042Z",
     "iopub.status.idle": "2024-10-03T09:36:16.185627Z",
     "shell.execute_reply": "2024-10-03T09:36:16.185047Z"
    }
   },
   "outputs": [],
   "source": [
    "import mlflow\n",
    "import os\n",
    "import uuid\n",
    "import shutil\n",
    "import pandas as pd\n",
    "import databricks.automl_runtime\n",
    "\n",
    "# Download input data from mlflow into a pandas DataFrame\n",
    "# Create temporary directory to download data\n",
    "temp_dir = os.path.join(os.environ[\"SPARK_LOCAL_DIRS\"], \"tmp\", str(uuid.uuid4())[:8])\n",
    "os.makedirs(temp_dir)\n",
    "\n",
    "# Download the artifact and read it\n",
    "training_data_path = mlflow.artifacts.download_artifacts(run_id=\"112f671348f64e68974bd947407b287b\", artifact_path=\"data\", dst_path=temp_dir)\n",
    "df = pd.read_parquet(os.path.join(training_data_path, \"training_data\"))\n",
    "\n",
    "# Delete the temporary data\n",
    "shutil.rmtree(temp_dir)\n",
    "\n",
    "target_col = \"Churn\"\n",
    "\n",
    "# Drop columns created by AutoML before pandas-profiling\n",
    "df = df.drop(['_automl_split_col_0000'], axis=1)"
   ]
  },
  {
   "cell_type": "markdown",
   "metadata": {
    "application/vnd.databricks.v1+cell": {
     "cellMetadata": {},
     "inputWidgets": {},
     "nuid": "4ad6f074-412e-4d7a-92aa-94510e8a3b9b",
     "showTitle": false,
     "title": ""
    }
   },
   "source": [
    "## Semantic Type Detection Alerts\n",
    "\n",
    "For details about the definition of the semantic types and how to override the detection, see\n",
    "[Databricks documentation on semantic type detection](https://docs.databricks.com/applications/machine-learning/automl.html#semantic-type-detection).\n",
    "\n",
    "- Semantic type `categorical` detected for column `SeniorCitizen`. Training notebooks will encode features based on categorical transformations."
   ]
  },
  {
   "cell_type": "markdown",
   "metadata": {
    "application/vnd.databricks.v1+cell": {
     "cellMetadata": {},
     "inputWidgets": {},
     "nuid": "289695a7-74fb-473e-8aa3-c39cc1728239",
     "showTitle": false,
     "title": ""
    }
   },
   "source": [
    "## Profiling Results"
   ]
  },
  {
   "cell_type": "code",
   "execution_count": 0,
   "metadata": {
    "application/vnd.databricks.v1+cell": {
     "cellMetadata": {},
     "inputWidgets": {},
     "nuid": "97efdab8-d4e0-4fd9-8e7f-00830b97e957",
     "showTitle": false,
     "title": ""
    },
    "execution": {
     "iopub.execute_input": "2024-10-03T09:36:16.188485Z",
     "iopub.status.busy": "2024-10-03T09:36:16.188134Z",
     "iopub.status.idle": "2024-10-03T09:36:25.280229Z",
     "shell.execute_reply": "2024-10-03T09:36:25.279408Z"
    },
    "large_display_output": true
   },
   "outputs": [],
   "source": [
    "from ydata_profiling import ProfileReport\n",
    "df_profile = ProfileReport(df,\n",
    "                           correlations={\n",
    "                               \"auto\": {\"calculate\": True},\n",
    "                               \"pearson\": {\"calculate\": True},\n",
    "                               \"spearman\": {\"calculate\": True},\n",
    "                               \"kendall\": {\"calculate\": True},\n",
    "                               \"phi_k\": {\"calculate\": True},\n",
    "                               \"cramers\": {\"calculate\": True},\n",
    "                           }, title=\"Profiling Report\", progress_bar=False, infer_dtypes=False)\n",
    "profile_html = df_profile.to_html()\n",
    "\n",
    "displayHTML(profile_html)"
   ]
  }
 ],
 "metadata": {
  "application/vnd.databricks.v1+notebook": {
   "dashboards": [],
   "environmentMetadata": null,
   "language": "python",
   "notebookMetadata": {
    "pythonIndentUnit": 2
   },
   "notebookName": "24-10-03-09:35-DataExploration-b5a554308a8e007cad87e06a98b6335b",
   "widgets": {}
  },
  "language_info": {
   "codemirror_mode": {
    "name": "ipython",
    "version": 3
   },
   "file_extension": ".py",
   "mimetype": "text/x-python",
   "name": "python",
   "nbconvert_exporter": "python",
   "pygments_lexer": "ipython3",
   "version": "3.10.12"
  },
  "name": "DataExploration-b5a554308a8e007cad87e06a98b6335b",
  "widgets": {
   "application/vnd.jupyter.widget-state+json": {
    "state": {
     "0a01f8e7354e4f6cb6837a2d4cacfd4a": {
      "model_module": "@jupyter-widgets/base",
      "model_module_version": "1.2.0",
      "model_name": "LayoutModel",
      "state": {
       "_model_module": "@jupyter-widgets/base",
       "_model_module_version": "1.2.0",
       "_model_name": "LayoutModel",
       "_view_count": null,
       "_view_module": "@jupyter-widgets/base",
       "_view_module_version": "1.2.0",
       "_view_name": "LayoutView",
       "align_content": null,
       "align_items": null,
       "align_self": null,
       "border": null,
       "bottom": null,
       "display": null,
       "flex": null,
       "flex_flow": null,
       "grid_area": null,
       "grid_auto_columns": null,
       "grid_auto_flow": null,
       "grid_auto_rows": null,
       "grid_column": null,
       "grid_gap": null,
       "grid_row": null,
       "grid_template_areas": null,
       "grid_template_columns": null,
       "grid_template_rows": null,
       "height": null,
       "justify_content": null,
       "justify_items": null,
       "left": null,
       "margin": null,
       "max_height": null,
       "max_width": null,
       "min_height": null,
       "min_width": null,
       "object_fit": null,
       "object_position": null,
       "order": null,
       "overflow": null,
       "overflow_x": null,
       "overflow_y": null,
       "padding": null,
       "right": null,
       "top": null,
       "visibility": null,
       "width": null
      }
     },
     "299a57e54b6044208692996d3334e845": {
      "model_module": "@jupyter-widgets/controls",
      "model_module_version": "1.5.0",
      "model_name": "DescriptionStyleModel",
      "state": {
       "_model_module": "@jupyter-widgets/controls",
       "_model_module_version": "1.5.0",
       "_model_name": "DescriptionStyleModel",
       "_view_count": null,
       "_view_module": "@jupyter-widgets/base",
       "_view_module_version": "1.2.0",
       "_view_name": "StyleView",
       "description_width": ""
      }
     },
     "3711989b26d44aeb9599167b014a2092": {
      "model_module": "@jupyter-widgets/controls",
      "model_module_version": "1.5.0",
      "model_name": "HTMLModel",
      "state": {
       "_dom_classes": [],
       "_model_module": "@jupyter-widgets/controls",
       "_model_module_version": "1.5.0",
       "_model_name": "HTMLModel",
       "_view_count": null,
       "_view_module": "@jupyter-widgets/controls",
       "_view_module_version": "1.5.0",
       "_view_name": "HTMLView",
       "description": "",
       "description_tooltip": null,
       "layout": "IPY_MODEL_b876cf3ad1b94c9faceef952ed0a02fb",
       "placeholder": "​",
       "style": "IPY_MODEL_9340547124534b2499f38adc2fb3d0d4",
       "value": " 1/1 [00:00&lt;00:00,  2.35it/s]"
      }
     },
     "470de7ccfec148d2a8fccb315c032698": {
      "model_module": "@jupyter-widgets/controls",
      "model_module_version": "1.5.0",
      "model_name": "ProgressStyleModel",
      "state": {
       "_model_module": "@jupyter-widgets/controls",
       "_model_module_version": "1.5.0",
       "_model_name": "ProgressStyleModel",
       "_view_count": null,
       "_view_module": "@jupyter-widgets/base",
       "_view_module_version": "1.2.0",
       "_view_name": "StyleView",
       "bar_color": null,
       "description_width": ""
      }
     },
     "4c7a2a5ce35944c3a50aa1334cb3d464": {
      "model_module": "@jupyter-widgets/base",
      "model_module_version": "1.2.0",
      "model_name": "LayoutModel",
      "state": {
       "_model_module": "@jupyter-widgets/base",
       "_model_module_version": "1.2.0",
       "_model_name": "LayoutModel",
       "_view_count": null,
       "_view_module": "@jupyter-widgets/base",
       "_view_module_version": "1.2.0",
       "_view_name": "LayoutView",
       "align_content": null,
       "align_items": null,
       "align_self": null,
       "border": null,
       "bottom": null,
       "display": null,
       "flex": null,
       "flex_flow": null,
       "grid_area": null,
       "grid_auto_columns": null,
       "grid_auto_flow": null,
       "grid_auto_rows": null,
       "grid_column": null,
       "grid_gap": null,
       "grid_row": null,
       "grid_template_areas": null,
       "grid_template_columns": null,
       "grid_template_rows": null,
       "height": null,
       "justify_content": null,
       "justify_items": null,
       "left": null,
       "margin": null,
       "max_height": null,
       "max_width": null,
       "min_height": null,
       "min_width": null,
       "object_fit": null,
       "object_position": null,
       "order": null,
       "overflow": null,
       "overflow_x": null,
       "overflow_y": null,
       "padding": null,
       "right": null,
       "top": null,
       "visibility": null,
       "width": null
      }
     },
     "5552038537834bf9ad47e297bfb52812": {
      "model_module": "@jupyter-widgets/controls",
      "model_module_version": "1.5.0",
      "model_name": "HTMLModel",
      "state": {
       "_dom_classes": [],
       "_model_module": "@jupyter-widgets/controls",
       "_model_module_version": "1.5.0",
       "_model_name": "HTMLModel",
       "_view_count": null,
       "_view_module": "@jupyter-widgets/controls",
       "_view_module_version": "1.5.0",
       "_view_name": "HTMLView",
       "description": "",
       "description_tooltip": null,
       "layout": "IPY_MODEL_f8de435610504eee82723eba0430bee7",
       "placeholder": "​",
       "style": "IPY_MODEL_299a57e54b6044208692996d3334e845",
       "value": "Downloading artifacts: 100%"
      }
     },
     "9340547124534b2499f38adc2fb3d0d4": {
      "model_module": "@jupyter-widgets/controls",
      "model_module_version": "1.5.0",
      "model_name": "DescriptionStyleModel",
      "state": {
       "_model_module": "@jupyter-widgets/controls",
       "_model_module_version": "1.5.0",
       "_model_name": "DescriptionStyleModel",
       "_view_count": null,
       "_view_module": "@jupyter-widgets/base",
       "_view_module_version": "1.2.0",
       "_view_name": "StyleView",
       "description_width": ""
      }
     },
     "940d29b1cbd04bada2c989f35f4962d4": {
      "model_module": "@jupyter-widgets/controls",
      "model_module_version": "1.5.0",
      "model_name": "HBoxModel",
      "state": {
       "_dom_classes": [],
       "_model_module": "@jupyter-widgets/controls",
       "_model_module_version": "1.5.0",
       "_model_name": "HBoxModel",
       "_view_count": null,
       "_view_module": "@jupyter-widgets/controls",
       "_view_module_version": "1.5.0",
       "_view_name": "HBoxView",
       "box_style": "",
       "children": [
        "IPY_MODEL_5552038537834bf9ad47e297bfb52812",
        "IPY_MODEL_d581932ce7524c2e84d627387d27385d",
        "IPY_MODEL_3711989b26d44aeb9599167b014a2092"
       ],
       "layout": "IPY_MODEL_0a01f8e7354e4f6cb6837a2d4cacfd4a"
      }
     },
     "b876cf3ad1b94c9faceef952ed0a02fb": {
      "model_module": "@jupyter-widgets/base",
      "model_module_version": "1.2.0",
      "model_name": "LayoutModel",
      "state": {
       "_model_module": "@jupyter-widgets/base",
       "_model_module_version": "1.2.0",
       "_model_name": "LayoutModel",
       "_view_count": null,
       "_view_module": "@jupyter-widgets/base",
       "_view_module_version": "1.2.0",
       "_view_name": "LayoutView",
       "align_content": null,
       "align_items": null,
       "align_self": null,
       "border": null,
       "bottom": null,
       "display": null,
       "flex": null,
       "flex_flow": null,
       "grid_area": null,
       "grid_auto_columns": null,
       "grid_auto_flow": null,
       "grid_auto_rows": null,
       "grid_column": null,
       "grid_gap": null,
       "grid_row": null,
       "grid_template_areas": null,
       "grid_template_columns": null,
       "grid_template_rows": null,
       "height": null,
       "justify_content": null,
       "justify_items": null,
       "left": null,
       "margin": null,
       "max_height": null,
       "max_width": null,
       "min_height": null,
       "min_width": null,
       "object_fit": null,
       "object_position": null,
       "order": null,
       "overflow": null,
       "overflow_x": null,
       "overflow_y": null,
       "padding": null,
       "right": null,
       "top": null,
       "visibility": null,
       "width": null
      }
     },
     "d581932ce7524c2e84d627387d27385d": {
      "model_module": "@jupyter-widgets/controls",
      "model_module_version": "1.5.0",
      "model_name": "FloatProgressModel",
      "state": {
       "_dom_classes": [],
       "_model_module": "@jupyter-widgets/controls",
       "_model_module_version": "1.5.0",
       "_model_name": "FloatProgressModel",
       "_view_count": null,
       "_view_module": "@jupyter-widgets/controls",
       "_view_module_version": "1.5.0",
       "_view_name": "ProgressView",
       "bar_style": "success",
       "description": "",
       "description_tooltip": null,
       "layout": "IPY_MODEL_4c7a2a5ce35944c3a50aa1334cb3d464",
       "max": 1.0,
       "min": 0.0,
       "orientation": "horizontal",
       "style": "IPY_MODEL_470de7ccfec148d2a8fccb315c032698",
       "value": 1.0
      }
     },
     "f8de435610504eee82723eba0430bee7": {
      "model_module": "@jupyter-widgets/base",
      "model_module_version": "1.2.0",
      "model_name": "LayoutModel",
      "state": {
       "_model_module": "@jupyter-widgets/base",
       "_model_module_version": "1.2.0",
       "_model_name": "LayoutModel",
       "_view_count": null,
       "_view_module": "@jupyter-widgets/base",
       "_view_module_version": "1.2.0",
       "_view_name": "LayoutView",
       "align_content": null,
       "align_items": null,
       "align_self": null,
       "border": null,
       "bottom": null,
       "display": null,
       "flex": null,
       "flex_flow": null,
       "grid_area": null,
       "grid_auto_columns": null,
       "grid_auto_flow": null,
       "grid_auto_rows": null,
       "grid_column": null,
       "grid_gap": null,
       "grid_row": null,
       "grid_template_areas": null,
       "grid_template_columns": null,
       "grid_template_rows": null,
       "height": null,
       "justify_content": null,
       "justify_items": null,
       "left": null,
       "margin": null,
       "max_height": null,
       "max_width": null,
       "min_height": null,
       "min_width": null,
       "object_fit": null,
       "object_position": null,
       "order": null,
       "overflow": null,
       "overflow_x": null,
       "overflow_y": null,
       "padding": null,
       "right": null,
       "top": null,
       "visibility": null,
       "width": null
      }
     }
    },
    "version_major": 2,
    "version_minor": 0
   }
  }
 },
 "nbformat": 4,
 "nbformat_minor": 0
}
